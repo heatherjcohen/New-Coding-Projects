{
 "metadata": {
  "name": "",
  "signature": "sha256:02a4cb63b6ec0b243cd4dfac7d8aff2007ae0ff3c6e5a874439d218883cf630d"
 },
 "nbformat": 3,
 "nbformat_minor": 0,
 "worksheets": [
  {
   "cells": [
    {
     "cell_type": "code",
     "collapsed": false,
     "input": [
      "from tweepy.streaming import StreamListener\n",
      "from tweepy import OAuthHandler\n",
      "from tweepy import Stream\n",
      "import pymongo\n",
      "import tweepy\n",
      "import json\n",
      "\n",
      "#Variables that contains the user credentials to access Twitter API \n",
      "access_key = '2981595259-rNdQQ3gkigeDoKkcfNAOBOz99jQcJsh379fsSC1'\n",
      "access_secret = 'sp0mR0a0UPbB04Lart0eVt8Eh57II7gCIpcFecwQH9qGo'\n",
      "consumer_key = 'UcUk7YemRsZolPKpG5WX2RGZy'\n",
      "consumer_secret = '4CU9UAcudTIVD405h4HAICPiLXAT2XzXKdOtdZzppKM09cfAuU'\n",
      "\n",
      "#Runs auth to Twitter API\n",
      "auth = tweepy.OAuthHandler(consumer_key, consumer_secret)\n",
      "auth.set_access_token(access_key, access_secret)\n",
      "api = tweepy.API(auth)\n",
      "\n",
      "\n",
      "#This is a basic listener that will print incoming data to stdout\n",
      "class StdOutListener(StreamListener):\n",
      "\n",
      "    def on_data(self, data):\n",
      "        print data\n",
      "        return True\n",
      "\n",
      "    def on_error(self, status):\n",
      "        print status\n",
      "\n",
      "\n",
      "#Customizes the stream and saves text and lang to databases \n",
      "class CustomStreamListener(tweepy.StreamListener):\n",
      "    def __init__(self, api):\n",
      "        self.api = api\n",
      "        super(tweepy.StreamListener, self).__init__()\n",
      "        self.db = pymongo.MongoClient('localhost', 27017).bowie\n",
      "        \n",
      "    \n",
      "    \n",
      "    def on_data(self, data):\n",
      "        jd = json.loads(data)\n",
      "        if jd.has_key('text'):\n",
      "            self.db.tweets.insert( { 'text' : jd['text'], 'retweet_count' : jd['retweet_count'], 'lang' : jd['lang'] } )\n",
      "               \n",
      "\n",
      "    def on_error(self, status_code):\n",
      "        return True # Don't kill the stream\n",
      "\n",
      "    def on_timeout(self):\n",
      "        return True # Don't kill the stream\n",
      "\n",
      "#Calls on StreamListerner and provides specifications of tracking\n",
      "l = tweepy.streaming.Stream(auth, CustomStreamListener(api))\n",
      "l.filter(track=['david bowie', 'bowie'], languages =['en'])"
     ],
     "language": "python",
     "metadata": {},
     "outputs": []
    },
    {
     "cell_type": "code",
     "collapsed": false,
     "input": [],
     "language": "python",
     "metadata": {},
     "outputs": [],
     "prompt_number": 6
    },
    {
     "cell_type": "code",
     "collapsed": false,
     "input": [],
     "language": "python",
     "metadata": {},
     "outputs": []
    }
   ],
   "metadata": {}
  }
 ]
}